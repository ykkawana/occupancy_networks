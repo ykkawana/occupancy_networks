{
 "nbformat": 4,
 "nbformat_minor": 2,
 "metadata": {
  "language_info": {
   "name": "python",
   "codemirror_mode": {
    "name": "ipython",
    "version": 3
   },
   "version": "3.7.4-final"
  },
  "orig_nbformat": 2,
  "file_extension": ".py",
  "mimetype": "text/x-python",
  "name": "python",
  "npconvert_exporter": "python",
  "pygments_lexer": "ipython3",
  "version": 3,
  "kernelspec": {
   "name": "python37464bitenvvenv63b415f700194b88abf3dd42ee12a82f",
   "display_name": "Python 3.7.4 64-bit ('env': venv)"
  }
 },
 "cells": [
  {
   "cell_type": "code",
   "execution_count": 1,
   "metadata": {},
   "outputs": [],
   "source": [
    "import sys\n",
    "sys.path.insert(0, '..')\n",
    "from pykeops.torch import LazyTensor \n",
    "\n",
    "from losses import custom_chamfer_loss\n",
    "import torch\n",
    "import os\n"
   ]
  },
  {
   "cell_type": "code",
   "execution_count": 2,
   "metadata": {},
   "outputs": [
    {
     "name": "stdout",
     "output_type": "stream",
     "text": "torch.Size([1, 2400, 1, 3]) torch.Size([1, 1, 400, 3])\n"
    },
    {
     "data": {
      "text/plain": "tensor(0.0173, device='cuda:0')"
     },
     "execution_count": 2,
     "metadata": {},
     "output_type": "execute_result"
    }
   ],
   "source": [
    "from pykeops.torch import LazyTensor \n",
    "#a = points_from_sdf.view(1, -1, 1, 3)/10\n",
    "device = 'cuda:0'\n",
    "a = torch.zeros(1, 2400, 1, 3).float().to(device)\n",
    "b = torch.ones(1, 400, 1, 3).to(device).view(1, 1, -1, 3)/10\n",
    "print(a.shape, b.shape)\n",
    "al = LazyTensor(a)\n",
    "bl = LazyTensor(b)\n",
    "((al - bl) ** 2).norm2().min(2)\n",
    "((al - bl) ** 2).norm2().min(1).mean()\n"
   ]
  },
  {
   "cell_type": "code",
   "execution_count": 3,
   "metadata": {},
   "outputs": [
    {
     "name": "stdout",
     "output_type": "stream",
     "text": "d shape (3, 6000, 3000)\nCompiling libKeOpstorch93afe5a3de in /home/mil/kawana/.cache/pykeops-1.3-cpython-37/build-libKeOpstorch93afe5a3de:\n       formula: Min_Reduction(Sqrt(Sum(Square(Abs((Var(0,3,0) - Var(1,3,1)))))),0)\n       aliases: Var(0,3,0); Var(1,3,1); \n       dtype  : float32\n...Done.\nCompiling libKeOpstorcheac8e916ea in /home/mil/kawana/.cache/pykeops-1.3-cpython-37/build-libKeOpstorcheac8e916ea:\n       formula: Min_Reduction(Sqrt(Sum(Square(Abs((Var(0,3,0) - Var(1,3,1)))))),1)\n       aliases: Var(0,3,0); Var(1,3,1); \n       dtype  : float32\n...Done.\nloss target2primitives torch.Size([]) tensor(16.5199, device='cuda:0')\nloss primitive2target torch.Size([]) tensor(16.5347, device='cuda:0')\nloss target2primitives torch.Size([]) tensor(16.5199, device='cuda:0')\nloss primitive2target torch.Size([]) tensor(16.5347, device='cuda:0')\ntensor(16.5273, device='cuda:0') tensor(16.5273, device='cuda:0')\n"
    }
   ],
   "source": [
    "os.environ['CUDA_VISIBLE_DEVICES'] = '6'\n",
    "pred_points = torch.rand([3, 6, 1000, 3]).float().to('cuda:0') + 1\n",
    "sampled_points = torch.rand([3, 3000, 3]).float().to('cuda:0') + 11\n",
    "pred_mask = torch.zeros([3, 6, 1000]).float().to('cuda:0') + 1\n",
    "\n",
    "ops = custom_chamfer_loss.custom_chamfer_loss(pred_points, sampled_points, surface_mask=pred_mask, pykeops=True)\n",
    "noops = custom_chamfer_loss.custom_chamfer_loss(pred_points, sampled_points, surface_mask=pred_mask, pykeops=False)\n",
    "print(noops, ops)"
   ]
  },
  {
   "cell_type": "code",
   "execution_count": null,
   "metadata": {},
   "outputs": [],
   "source": []
  }
 ]
}